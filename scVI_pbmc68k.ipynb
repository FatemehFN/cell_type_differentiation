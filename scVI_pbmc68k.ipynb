{
 "cells": [
  {
   "cell_type": "code",
   "execution_count": 1,
   "metadata": {},
   "outputs": [],
   "source": [
    "\n",
    "import pandas as pd\n",
    "\n",
    "gt_path = \"/mnt/adsinglecell/fatemeh/rosmapnetworks/pbmc68k/For Filipi/Data/Raw/pbmc68k/68k_pbmc_barcodes_annotation.tsv\"\n",
    "\n",
    "# Load ground truth annotations\n",
    "gt_data = pd.read_csv(gt_path, sep=\"\\t\")\n",
    "gt_data = gt_data[[\"barcodes\", \"celltype\"]]  # Keep only relevant columns\n",
    "\n"
   ]
  },
  {
   "cell_type": "code",
   "execution_count": null,
   "metadata": {},
   "outputs": [],
   "source": [
    "import scanpy as sc\n",
    "import scipy.io\n",
    "import pandas as pd\n",
    "import scvi\n",
    "from sklearn.metrics import adjusted_rand_score\n",
    "\n",
    "# Paths to your files\n",
    "mtx_file = \"/mnt/adsinglecell/fatemeh/rosmapnetworks/pbmc68k/For Filipi/Data/Raw/pbmc68k/pbmc68k_expression_matrix.mtx\"\n",
    "cells_file = \"/mnt/adsinglecell/fatemeh/rosmapnetworks/pbmc68k/For Filipi/Data/Raw/pbmc68k/cell barcodes.txt\"\n",
    "genes_file = \"/mnt/adsinglecell/fatemeh/rosmapnetworks/pbmc68k/For Filipi/Data/Raw/pbmc68k/genes.txt\"\n",
    "\n",
    "# Load the matrix (cells x genes)\n",
    "X = scipy.io.mmread(mtx_file).tocsr()  # Transpose to match AnnData format\n",
    "\n",
    "# Load cell names\n",
    "cell_names = pd.read_csv(cells_file, header=None, sep=\"\\t\")[0].values\n",
    "\n",
    "# Load gene names\n",
    "gene_names = pd.read_csv(genes_file, header=None, sep=\"\\t\")[0].values\n",
    "\n",
    "# Create AnnData object\n",
    "adata = sc.AnnData(X)\n",
    "adata.obs_names = cell_names  # Assign cell names\n",
    "adata.var_names = gene_names  # Assign gene names\n"
   ]
  },
  {
   "cell_type": "code",
   "execution_count": 3,
   "metadata": {},
   "outputs": [],
   "source": [
    "# Normalize & log transform\n",
    "sc.pp.normalize_total(adata, target_sum=1e4)\n",
    "sc.pp.log1p(adata)\n",
    "\n",
    "# Filter genes & cells if needed (optional)\n",
    "sc.pp.filter_genes(adata, min_cells=3)\n",
    "sc.pp.filter_cells(adata, min_genes=200)\n"
   ]
  },
  {
   "cell_type": "code",
   "execution_count": 4,
   "metadata": {},
   "outputs": [
    {
     "data": {
      "text/plain": [
       "False"
      ]
     },
     "execution_count": 4,
     "metadata": {},
     "output_type": "execute_result"
    }
   ],
   "source": [
    "import torch\n",
    "device = \"cuda\" if torch.cuda.is_available() else \"cpu\"\n",
    "torch.cuda.is_available()"
   ]
  },
  {
   "cell_type": "code",
   "execution_count": null,
   "metadata": {},
   "outputs": [],
   "source": [
    "# Assuming you have ground truth labels in 'true_labels.txt'\n",
    "#/mnt/adsinglecell/fatemeh/rosmapnetworks/pbmc68k/For Filipi/Data/Raw/pbmc68k/68k_pbmc_barcodes_annotation.tsv\n",
    "\n",
    "\n",
    "# Setup scVI\n",
    "scvi.model.SCVI.setup_anndata(adata)\n",
    "\n",
    "# Train scVI model\n",
    "model = scvi.model.SCVI(adata)\n",
    "model.train(max_epochs=200)\n",
    "\n",
    "# Get the learned latent representation (deep features)\n",
    "adata.obsm[\"X_scVI\"] = model.get_latent_representation()\n",
    "\n",
    "\n"
   ]
  },
  {
   "cell_type": "code",
   "execution_count": 4,
   "metadata": {},
   "outputs": [],
   "source": [
    "from sklearn.cluster import KMeans\n",
    "# Define number of clusters (adjust based on expected cell types)\n",
    "num_clusters = 11  # Change this based on your dataset\n",
    "\n",
    "# Perform K-Means clustering on the latent space\n",
    "kmeans = KMeans(n_clusters=num_clusters, random_state=42)\n",
    "adata.obs[\"kmeans_clusters\"] = kmeans.fit_predict(adata.obsm[\"X_scVI\"])\n"
   ]
  },
  {
   "cell_type": "code",
   "execution_count": 5,
   "metadata": {},
   "outputs": [
    {
     "name": "stdout",
     "output_type": "stream",
     "text": [
      "      TSNE.1     TSNE.2          barcodes                      celltype\n",
      "0   7.565540   0.441370  AAACATACACCCAA-1              CD8+ Cytotoxic T\n",
      "1   2.552626 -25.786672  AAACATACCCCTCA-1  CD8+/CD45RA+ Naive Cytotoxic\n",
      "2  -5.771831  11.830846  AAACATACCGGAGA-1           CD4+/CD45RO+ Memory\n",
      "3   1.762556  25.979346  AAACATACTAACCG-1                       CD19+ B\n",
      "4 -16.793856 -16.589970  AAACATACTCTTCA-1               CD4+/CD25 T Reg\n"
     ]
    }
   ],
   "source": [
    "import pandas as pd\n",
    "\n",
    "# Load ground truth labels\n",
    "true_labels_df = pd.read_csv(\n",
    "    \"/mnt/adsinglecell/fatemeh/rosmapnetworks/pbmc68k/For Filipi/Data/Raw/pbmc68k/68k_pbmc_barcodes_annotation.tsv\",\n",
    "    sep=\"\\t\"\n",
    ")\n",
    "\n",
    "# Check the first few rows\n",
    "print(true_labels_df.head())"
   ]
  },
  {
   "cell_type": "code",
   "execution_count": 6,
   "metadata": {},
   "outputs": [],
   "source": [
    "# Ensure barcode names match AnnData's obs_names\n",
    "true_labels_dict = true_labels_df.set_index(\"barcodes\")[\"celltype\"].to_dict()\n",
    "\n",
    "# Assign ground truth labels to the AnnData object\n",
    "adata.obs[\"true_labels\"] = adata.obs_names.map(true_labels_dict)\n",
    "\n",
    "# Remove any unmatched cells (if necessary)\n",
    "adata = adata[adata.obs[\"true_labels\"].notna(), :]"
   ]
  },
  {
   "cell_type": "code",
   "execution_count": 7,
   "metadata": {},
   "outputs": [
    {
     "name": "stdout",
     "output_type": "stream",
     "text": [
      "Adjusted Rand Index (ARI): 0.2041\n"
     ]
    }
   ],
   "source": [
    "from sklearn.metrics import adjusted_rand_score\n",
    "\n",
    "# Ensure clustering labels are in a proper format\n",
    "predicted_labels = adata.obs[\"kmeans_clusters\"].astype(str)  # Or use \"gmm_clusters\" if using GMM\n",
    "true_labels = adata.obs[\"true_labels\"].astype(str)\n",
    "\n",
    "# Compute ARI score\n",
    "ari_score = adjusted_rand_score(true_labels, predicted_labels)\n",
    "print(f\"Adjusted Rand Index (ARI): {ari_score:.4f}\")\n"
   ]
  }
 ],
 "metadata": {
  "kernelspec": {
   "display_name": "base",
   "language": "python",
   "name": "python3"
  },
  "language_info": {
   "codemirror_mode": {
    "name": "ipython",
    "version": 3
   },
   "file_extension": ".py",
   "mimetype": "text/x-python",
   "name": "python",
   "nbconvert_exporter": "python",
   "pygments_lexer": "ipython3",
   "version": "3.11.6"
  }
 },
 "nbformat": 4,
 "nbformat_minor": 2
}
